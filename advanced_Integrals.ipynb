{
 "cells": [
  {
   "cell_type": "markdown",
   "metadata": {},
   "source": [
    "Before you turn this problem in, make sure everything runs as expected. First, **restart the kernel** (in the menubar, select Kernel$\\rightarrow$Restart) and then **run all cells** (in the menubar, select Cell$\\rightarrow$Run All).\n",
    "\n",
    "Make sure you fill in any place that says `YOUR CODE HERE` or \"YOUR ANSWER HERE\", as well as your github nickname below:"
   ]
  },
  {
   "cell_type": "code",
   "execution_count": 1,
   "metadata": {},
   "outputs": [],
   "source": [
    "NICKNAME = \"NikitaSadikov\""
   ]
  },
  {
   "cell_type": "markdown",
   "metadata": {},
   "source": [
    "---"
   ]
  },
  {
   "cell_type": "markdown",
   "metadata": {
    "deletable": false,
    "editable": false,
    "heading_collapsed": true,
    "nbgrader": {
     "cell_type": "markdown",
     "checksum": "dae37096cb69d9308fedfcc04f2dc929",
     "grade": false,
     "grade_id": "cell-2458024e3a3efd4c",
     "locked": true,
     "schema_version": 3,
     "solution": false,
     "task": false
    }
   },
   "source": [
    "# Часть 1. Гауссовы квадратуры\n",
    "\n",
    "Метод Гауссовых квадратур является одним из методов численного интегрирования, который позволяет увеличить точность интегрирования, используя ортогональные полиномы и их корни в качестве узлов.\n",
    "\n",
    "$$\n",
    "\\int_a^b \\!  w(x)\\, f(x)\\, dx \\approx \\sum_{k=1}^n w_k \\, f(x_k) \\;,\n",
    "$$\n",
    "\n",
    "здесь $\\omega$ - функция весов, которая определят базис ортогональных полиномов, чьи корни используются в качестве узлов интегрирования. \n",
    "\n",
    "Получаемая таким образом квадратурная схема *точно* инегрирует $f(x)$ если это полином степени $m\\le2n-1$, где $n$ - степень полинома, корни которого используются в качестве узлов."
   ]
  },
  {
   "cell_type": "markdown",
   "metadata": {
    "deletable": false,
    "editable": false,
    "heading_collapsed": true,
    "hidden": true,
    "nbgrader": {
     "cell_type": "markdown",
     "checksum": "775042397203e9bde8901fc67df64a80",
     "grade": false,
     "grade_id": "cell-fc379192341494d5",
     "locked": true,
     "schema_version": 3,
     "solution": false,
     "task": false
    }
   },
   "source": [
    "## Двухточечная квадратура Гаусса\n",
    "\n",
    "Постройте квадратурную формулу Гаусса, интегрирующую точно многочлены степеней вплоть до третьей на интервале $[a, b]$. Заметим, что для этого достаточно построить _двухточечную_ квадратуру.\n",
    "\n",
    "    hint:Легко найти точки и веса для отрезка [-1,1], после чего можно сделать аффинное преобразование..\n",
    "\n",
    "Напишите функцию, которая возвращает веса, $w_1$ и $w_2$, и узлы, $x_1$ и $x_2$, двухточечной квадратурной формулы Гаусса с весовой функцией $w(x) = 1$, т.е., интегралы вида\n",
    "\n",
    "$$\n",
    "\\int_a^b\\! f(x)\\, dx \\approx w_1 f(x_1) + w_2 f(x_2)\n",
    "$$"
   ]
  },
  {
   "cell_type": "code",
   "execution_count": 2,
   "metadata": {
    "deletable": false,
    "hidden": true,
    "nbgrader": {
     "cell_type": "code",
     "checksum": "904166366d67e67506e3087dd19ce395",
     "grade": false,
     "grade_id": "cell-cf3c018fa371396b",
     "locked": false,
     "schema_version": 3,
     "solution": true,
     "task": false
    }
   },
   "outputs": [],
   "source": [
    "import scipy.special\n",
    "def gauss_2(a, b):\n",
    "    r\"\"\"Return nodes and weights for a two-point Gauss quadrature on [a, b].\n",
    "    \n",
    "    Parameters\n",
    "    ----------\n",
    "    a, b : float\n",
    "       Boundaries of the integration interval\n",
    "       \n",
    "    Returns\n",
    "    -------\n",
    "    x1, x2, w1, w2 : float\n",
    "       Nodes and weights of the quadrature.\n",
    "    \"\"\"\n",
    "    \n",
    "    ns, ws = scipy.special.roots_legendre(2)\n",
    "    \n",
    "    x1 = (a+b)/2+(b-a)/2 * ns[0]\n",
    "    x2 = (a+b)/2+(b-a)/2 * ns[1]\n",
    "    w1 = (b-a)/2 * ws[0]\n",
    "    w2 = (b-a)/2 * ws[1]\n",
    "    \n",
    "    return x1, x2, w1, w2"
   ]
  },
  {
   "cell_type": "code",
   "execution_count": 3,
   "metadata": {
    "deletable": false,
    "editable": false,
    "hidden": true,
    "nbgrader": {
     "cell_type": "code",
     "checksum": "0359e8b293f2fb6d01a58c9fedf8394d",
     "grade": true,
     "grade_id": "cell-b6739a7f6045a9ec",
     "locked": true,
     "points": 5,
     "schema_version": 3,
     "solution": false,
     "task": false
    }
   },
   "outputs": [],
   "source": [
    "from numpy.testing import assert_allclose\n",
    "\n",
    "x1, x2, w1, w2 = gauss_2(0, 1)\n",
    "\n",
    "def f(x, n): \n",
    "    return x**n\n",
    "\n",
    "for n in [0, 1, 2, 3]:\n",
    "    assert_allclose(w1*f(x1, n=n) + w2*f(x2, n=n),\n",
    "                    1./(n+1), atol=1e-14)"
   ]
  },
  {
   "cell_type": "markdown",
   "metadata": {
    "deletable": false,
    "editable": false,
    "heading_collapsed": true,
    "hidden": true,
    "nbgrader": {
     "cell_type": "markdown",
     "checksum": "c5f8b30020145459fde89f8633497e81",
     "grade": false,
     "grade_id": "cell-e8c64d5ac1bfac1e",
     "locked": true,
     "schema_version": 3,
     "solution": false,
     "task": false
    }
   },
   "source": [
    "## Использование ортогональных полиномов"
   ]
  },
  {
   "cell_type": "markdown",
   "metadata": {
    "deletable": false,
    "editable": false,
    "heading_collapsed": true,
    "hidden": true,
    "nbgrader": {
     "cell_type": "markdown",
     "checksum": "29bba00b9afe94a4031db5f2999cbfd3",
     "grade": false,
     "grade_id": "cell-fb434c4b7c784b46",
     "locked": true,
     "schema_version": 3,
     "solution": false,
     "task": false
    }
   },
   "source": [
    "### Legendre"
   ]
  },
  {
   "cell_type": "markdown",
   "metadata": {
    "deletable": false,
    "editable": false,
    "hidden": true,
    "nbgrader": {
     "cell_type": "markdown",
     "checksum": "b34d43a5ea949551d5f49894016354bc",
     "grade": false,
     "grade_id": "cell-8e5c8d092b20a000",
     "locked": true,
     "schema_version": 3,
     "solution": false,
     "task": false
    }
   },
   "source": [
    "Теперь посчитаем следующий интеграл:\n",
    "\n",
    "$$\n",
    "\\int_{-1}^1 (7x^3 - 8 x^2 - 3 x + 3) dx  \\label{eq1}\\tag{1}\n",
    "$$\n",
    "\n",
    "Здесь функция уже полиномиальна, поэтому возьмем весовую функцию $\\omega(x) = 1$. Тогда вычисление интеграла сводится к сумме корней полинома, соответствующих весовой функции $\\omega(x) = 1$. Например, здесь https://dlmf.nist.gov/18.3 вы можете увидеть, какой базис полиномов соответствует вашей весовой функции.\n",
    "\n",
    "Заметим, что нашей соответствуют полиномы Лежандра. Теперь, зайдем в документацию https://docs.scipy.org/doc/scipy/reference/special.html#orthogonal-polynomials. Функция *roots_legendre* сразу же выдаст корни полиномов Лежандра, а также веса к их корням (для полиномов Лежандра все эти веса равны единице)."
   ]
  },
  {
   "cell_type": "markdown",
   "metadata": {
    "deletable": false,
    "editable": false,
    "hidden": true,
    "nbgrader": {
     "cell_type": "markdown",
     "checksum": "037083acc46d40c85a54bc7331280cb9",
     "grade": false,
     "grade_id": "cell-a22c173af41a812e",
     "locked": true,
     "schema_version": 3,
     "solution": false,
     "task": false
    }
   },
   "source": [
    "1. Посчитайте точное значение интеграла ([1](#mjx-eqn-eq1)) \"руками\"."
   ]
  },
  {
   "cell_type": "code",
   "execution_count": 4,
   "metadata": {
    "deletable": false,
    "hidden": true,
    "nbgrader": {
     "cell_type": "code",
     "checksum": "2b6ac6e30a26e022387bdecd8fdd616f",
     "grade": true,
     "grade_id": "cell-16f3cafcd6f326e5",
     "locked": false,
     "points": 1,
     "schema_version": 3,
     "solution": true,
     "task": false
    }
   },
   "outputs": [
    {
     "name": "stdout",
     "output_type": "stream",
     "text": [
      "0.6666666666666666\n"
     ]
    }
   ],
   "source": [
    "I = 2/3\n",
    "print(I)"
   ]
  },
  {
   "cell_type": "markdown",
   "metadata": {
    "deletable": false,
    "editable": false,
    "hidden": true,
    "nbgrader": {
     "cell_type": "markdown",
     "checksum": "c44b7f4761eba9c6e36ed4a20ce8d0ad",
     "grade": false,
     "grade_id": "cell-948b60507b24e367",
     "locked": true,
     "schema_version": 3,
     "solution": false,
     "task": false
    }
   },
   "source": [
    "2. Посчитайте значение интеграла ([1](#mjx-eqn-eq1)), используя обычный метод интегрирования на равномерной сетке (например, написанный вами в предыдущем дз). Оцените количество узлов, необходимых для достижения относительной точности $10^{-10}$."
   ]
  },
  {
   "cell_type": "code",
   "execution_count": 12,
   "metadata": {
    "deletable": false,
    "hidden": true,
    "nbgrader": {
     "cell_type": "code",
     "checksum": "bd115dffeda241a3731fd014860b2716",
     "grade": true,
     "grade_id": "cell-7790db31d641a7db",
     "locked": false,
     "points": 1,
     "schema_version": 3,
     "solution": true,
     "task": false
    }
   },
   "outputs": [
    {
     "name": "stdout",
     "output_type": "stream",
     "text": [
      "0.6666666666860692 узлы 524289\n"
     ]
    }
   ],
   "source": [
    "import numpy as np\n",
    "def midpoint_rule(func, a, b, eps):\n",
    "    i = 0\n",
    "    I = float('inf')  \n",
    "    N = 2  \n",
    "    while i == 0:    \n",
    "        h = b/N-a/N\n",
    "        x = np.linspace(a + h/2, b - h/2, N)\n",
    "        S = [func(n) for n in x]\n",
    "        S = np.sum(S)*h\n",
    "        if (I-S<eps): \n",
    "            break  \n",
    "        N *= 2\n",
    "        I = S\n",
    "    return S, N\n",
    "\n",
    "\n",
    "\n",
    "function = lambda x: 3 + 7*x**3 - 8*x**2 - 3*x \n",
    "I, N = midpoint_rule(function, -1, 1, 1e-10)\n",
    "print(I, \"узлы\", N+1)\n"
   ]
  },
  {
   "cell_type": "markdown",
   "metadata": {
    "deletable": false,
    "editable": false,
    "hidden": true,
    "nbgrader": {
     "cell_type": "markdown",
     "checksum": "f6dabecd2b5598369b254d25c762df09",
     "grade": false,
     "grade_id": "cell-f088101355d78922",
     "locked": true,
     "schema_version": 3,
     "solution": false,
     "task": false
    }
   },
   "source": [
    "3. Посчитайте значение интеграла ([1](#mjx-eqn-eq1)), с помощью Гауссовой квадратуры (используя корни полинома Лежандра степени от 1 до 6 в качестве узлов) (чтобы получить корни и веса используйте scipy.special.roots_legendre)"
   ]
  },
  {
   "cell_type": "code",
   "execution_count": 7,
   "metadata": {
    "deletable": false,
    "hidden": true,
    "nbgrader": {
     "cell_type": "code",
     "checksum": "e856289f89873d2dd62b4d05b7964881",
     "grade": true,
     "grade_id": "cell-6dc2ce8d5be0a99c",
     "locked": false,
     "points": 1,
     "schema_version": 3,
     "solution": true,
     "task": false
    }
   },
   "outputs": [
    {
     "name": "stdout",
     "output_type": "stream",
     "text": [
      "степень: 1 ответ: 6.0\n",
      "степень: 2 ответ: 0.6666666666666674\n",
      "степень: 3 ответ: 0.6666666666666639\n",
      "степень: 4 ответ: 0.6666666666666667\n",
      "степень: 5 ответ: 0.6666666666666685\n",
      "степень: 6 ответ: 0.6666666666666695\n"
     ]
    }
   ],
   "source": [
    "from scipy.special import roots_legendre\n",
    "for i in range(1, 7):\n",
    "    roots, weights = roots_legendre(i)\n",
    "    print('степень:', i, 'ответ:', (function(roots) * weights).sum())"
   ]
  },
  {
   "cell_type": "markdown",
   "metadata": {
    "deletable": false,
    "editable": false,
    "hidden": true,
    "nbgrader": {
     "cell_type": "markdown",
     "checksum": "7efb7260ef67ce819ece51a1140ae13c",
     "grade": false,
     "grade_id": "cell-c91608154cad03e1",
     "locked": true,
     "schema_version": 3,
     "solution": false,
     "task": false
    }
   },
   "source": [
    "Сравните количество узлов, необходимых для достижения одинаковой точности в обоих чисенных методах."
   ]
  },
  {
   "cell_type": "markdown",
   "metadata": {
    "deletable": false,
    "hidden": true,
    "nbgrader": {
     "cell_type": "code",
     "checksum": "43552b414f9a368c005cc81189908d28",
     "grade": true,
     "grade_id": "cell-16d11da2a52ec8c0",
     "locked": false,
     "points": 1,
     "schema_version": 3,
     "solution": true,
     "task": false
    }
   },
   "source": [
    "Точность: 1e-10 получаем для 2 узлов в одном и для 524289 узлов в другом способе "
   ]
  },
  {
   "cell_type": "markdown",
   "metadata": {
    "deletable": false,
    "editable": false,
    "hidden": true,
    "nbgrader": {
     "cell_type": "markdown",
     "checksum": "5b464089f419aba26b8917d6a50b5533",
     "grade": false,
     "grade_id": "cell-90f6342d2fe72d9b",
     "locked": true,
     "schema_version": 3,
     "solution": false,
     "task": false
    }
   },
   "source": [
    "\n",
    "Вычислите значение того же интеграла, но на интервале от 0 до 10.\n",
    "\n",
    "$$\n",
    "\\int_{0}^{10} (7x^3 - 8 x^2 - 3 x + 3) dx \n",
    "$$\n",
    "\n",
    "Заметим, что больше нельзя использовать полиномы Лежанда, потому что они определены на интервале (-1, 1). Однако всегда можно произвести *аффинное преобразование* для того, чтобы перейти к желаемой системе координат.\n",
    "\n",
    "(20% итоговой оценки)"
   ]
  },
  {
   "cell_type": "markdown",
   "metadata": {},
   "source": [
    "\n",
    "$$\n",
    "I = \\int\\limits_{a}^{b} f(\\xi ) d \\xi \\approx I_{G}=(\\frac{b-a}{2})\\sum\\limits_{i=0}^{n-1}\\omega_{i}f(\\xi_{i})\n",
    "$$\n",
    "$$\n",
    "\\xi_{i} = (\\frac{b+a}{2})+(\\frac{b-a}{2})x_{i} \n",
    "$$"
   ]
  },
  {
   "cell_type": "code",
   "execution_count": 8,
   "metadata": {
    "deletable": false,
    "hidden": true,
    "nbgrader": {
     "cell_type": "code",
     "checksum": "ecbb9c326dedcff540534ea083ac90d7",
     "grade": true,
     "grade_id": "cell-000ec6abd35fcdd9",
     "locked": false,
     "points": 2,
     "schema_version": 3,
     "solution": true,
     "task": false
    }
   },
   "outputs": [
    {
     "name": "stdout",
     "output_type": "stream",
     "text": [
      "I = 6630.0 узлы: 1\n",
      "I = 14713.333333333332 узлы: 2\n",
      "I = 14713.333333333336 узлы: 3\n",
      "I = 14713.333333333332 узлы: 4\n",
      "I = 14713.333333333328 узлы: 5\n",
      "I = 14713.33333333333 узлы: 6\n"
     ]
    }
   ],
   "source": [
    "from scipy.special import roots_legendre\n",
    "\n",
    "def legendre_nodes_method(n, func):\n",
    "    x, w = roots_legendre(n)\n",
    "    return np.sum(func(x)*w)\n",
    "\n",
    "funcion = lambda x: 5*(7*125*(x+1)**3 - 8*25*(x+1)**2 - 15*(x+1) + 3)\n",
    "for i in range(1,7):\n",
    "    print(\"I =\", legendre_nodes_method(i, funcion), \"узлы:\", i)\n"
   ]
  },
  {
   "cell_type": "markdown",
   "metadata": {
    "deletable": false,
    "editable": false,
    "hidden": true,
    "nbgrader": {
     "cell_type": "markdown",
     "checksum": "fecefb6e3a941594b03ce8c9abc97370",
     "grade": false,
     "grade_id": "cell-dc53e776f48381a8",
     "locked": true,
     "schema_version": 3,
     "solution": false,
     "task": false
    }
   },
   "source": [
    "Сравните результат с точным значением интеграла."
   ]
  },
  {
   "cell_type": "markdown",
   "metadata": {
    "deletable": false,
    "hidden": true,
    "nbgrader": {
     "cell_type": "markdown",
     "checksum": "dca43a77feb14bb6c6ed16db35ff40dd",
     "grade": true,
     "grade_id": "cell-05021cdd64e858e1",
     "locked": false,
     "points": 2,
     "schema_version": 3,
     "solution": true,
     "task": false
    }
   },
   "source": [
    "Точное значение интеграла: $\\frac{44140}{3}$"
   ]
  },
  {
   "cell_type": "code",
   "execution_count": 9,
   "metadata": {
    "scrolled": true
   },
   "outputs": [
    {
     "name": "stdout",
     "output_type": "stream",
     "text": [
      "1.8189894035458565e-12\n"
     ]
    }
   ],
   "source": [
    "I_1 = 44140/3\n",
    "eps =  I_1 - legendre_nodes_method(2, funcion) \n",
    "print(eps)"
   ]
  },
  {
   "cell_type": "markdown",
   "metadata": {},
   "source": [
    "Кажется, это довольно хорошо"
   ]
  },
  {
   "cell_type": "markdown",
   "metadata": {
    "deletable": false,
    "editable": false,
    "heading_collapsed": true,
    "hidden": true,
    "nbgrader": {
     "cell_type": "markdown",
     "checksum": "f12bff0315d6af95982b633bfa67cecc",
     "grade": false,
     "grade_id": "cell-ca98b358d26e8b43",
     "locked": true,
     "schema_version": 3,
     "solution": false,
     "task": false
    }
   },
   "source": [
    "### \n",
    "\n",
    "Вычислите значение следующиего интеграла:\n",
    "$$\n",
    "\\int_{0}^{2\\pi} \\frac{cos(x) dx }{\\sqrt{4\\pi^2 - x^2}}\n",
    "$$\n",
    "используя соответствующий базис ортогональных полиномов.\n",
    "Найдите степень полинома (количество узлов), при которой точность превысит машинное $\\epsilon$.\n"
   ]
  },
  {
   "cell_type": "code",
   "execution_count": 10,
   "metadata": {
    "deletable": false,
    "hidden": true,
    "nbgrader": {
     "cell_type": "code",
     "checksum": "d9b01518a9d8e7c760eb991dc9f214af",
     "grade": true,
     "grade_id": "cell-6d27cbe45695ad3b",
     "locked": false,
     "points": 5,
     "schema_version": 3,
     "solution": true,
     "task": false
    }
   },
   "outputs": [
    {
     "name": "stdout",
     "output_type": "stream",
     "text": [
      "0.34601015881226443 16\n"
     ]
    }
   ],
   "source": [
    "from scipy.special import roots_chebyt\n",
    "import numpy as np\n",
    "\n",
    "f = lambda t: 0.5 * np.cos(2 * np.pi * t)\n",
    "n = 2\n",
    "ans = 0\n",
    "I = 0.34601015881226444 #Через фунцкцю бесселя\n",
    "while abs(I - ans) != 0:\n",
    "    roots, weights = roots_chebyt(n)\n",
    "    ans = (f(roots) * weights).sum()\n",
    "    n += 1\n",
    "print(I,n-1)"
   ]
  },
  {
   "cell_type": "markdown",
   "metadata": {
    "deletable": false,
    "editable": false,
    "heading_collapsed": true,
    "nbgrader": {
     "cell_type": "markdown",
     "checksum": "bd74aa881e284f20c1aae900f86db9a2",
     "grade": false,
     "grade_id": "cell-acdd1eabc208c54c",
     "locked": true,
     "schema_version": 3,
     "solution": false,
     "task": false
    }
   },
   "source": [
    "# Часть 2. Уравение Фредгольма\n",
    "\n",
    "Существует два типа уравнений Фредгольма: \n",
    "\n",
    "1. Уравение Фредгольма первого рода:\n",
    "$$\n",
    "\\int_a^b \\! K(x, t)\\, \\color{blue}{f(t)} \\,dt = g(x)\n",
    "$$\n",
    "\n",
    "2. Уравнение Фредгольма второго рода:\n",
    "$$\n",
    "\\lambda \\int_a^b\\! K(x, t)\\, \\color{blue}{f(t)} \\, dt + g(x) = \\color{blue}{f(x)}\n",
    "$$\n",
    "\n",
    "Здесь функция $f(x)$ неизвестна, $K(x, t)$ - ядро уравнения, заданная функция $g(x)$ и $\\lambda$ - рациональное число.\n",
    "С точки зрения вычислений, уравение Фредгольма первого рода крайне неустойчиво. Далее мы рассмотрим только уравнение второго рода."
   ]
  },
  {
   "cell_type": "markdown",
   "metadata": {
    "deletable": false,
    "editable": false,
    "hidden": true,
    "nbgrader": {
     "cell_type": "markdown",
     "checksum": "a9628395f1d23de5cc15e5e1c381375e",
     "grade": false,
     "grade_id": "cell-36ee7577a4e0dc70",
     "locked": true,
     "schema_version": 3,
     "solution": false,
     "task": false
    }
   },
   "source": [
    "Основная идея - аппроксимировать интеграл некой квадратурной формулой\n",
    "\n",
    "$$\n",
    "\\int_a^b \\! \\xi(t)\\, dt \\approx \\sum_j^N w_j\\, \\xi(t_j)\n",
    "$$\n",
    "\n",
    "с подходящими весами $w_j$ и узлами $t_j$, $j=1, \\dots, N$. Точность аппроксимации контролируется $N$."
   ]
  },
  {
   "cell_type": "markdown",
   "metadata": {
    "deletable": false,
    "editable": false,
    "hidden": true,
    "nbgrader": {
     "cell_type": "markdown",
     "checksum": "a74f70c8935aafb7c5b437c8f5112906",
     "grade": false,
     "grade_id": "cell-0f6dbee289827a84",
     "locked": true,
     "schema_version": 3,
     "solution": false,
     "task": false
    }
   },
   "source": [
    "Таким образом, уравнение Фредгольма приближается следующим образом:\n",
    "\n",
    "$$\n",
    "\\lambda \\sum_j w_j\\, K(x, t_j)\\, \\color{blue}{f(t_j)} + g(x) = \\color{blue}{f(x)}\n",
    "$$\n",
    "\n",
    "Отметим, что $x$ - непрерывная переменная, в то время, как $t$ - дискретная."
   ]
  },
  {
   "cell_type": "markdown",
   "metadata": {
    "deletable": false,
    "editable": false,
    "hidden": true,
    "nbgrader": {
     "cell_type": "markdown",
     "checksum": "bbae1dde3d73ef7f88a463b46ef347e3",
     "grade": false,
     "grade_id": "cell-d25f3a12e14deb3e",
     "locked": true,
     "schema_version": 3,
     "solution": false,
     "task": false
    }
   },
   "source": [
    "Рассматривая данное уравнение на тех же узлах сетки $x = t_k$, получаем\n",
    "\n",
    "$$\n",
    "\\lambda \\sum_j w_j \\, K_{k, j}\\, \\color{blue}{f_j} + g_k = \\color{blue}{f_k}\n",
    "$$\n",
    "\n",
    "где $f_j \\equiv f(t_j)$, $g_j \\equiv g(t_j)$ and $K_{k, j} \\equiv K(t_k, t_j)$. Это ничто иное, как система линейных алгебраических уравнений на вектор $\\color{blue}{f_j}$.\n",
    "\n",
    "Ее решение выдает значение неизвестной функции $f(x)$ в дискретных точках $x=t_j$ для $j=1, \\dots, N$."
   ]
  },
  {
   "cell_type": "markdown",
   "metadata": {
    "deletable": false,
    "editable": false,
    "hidden": true,
    "nbgrader": {
     "cell_type": "markdown",
     "checksum": "d181e448b52543b8da4c5c4499aa45cf",
     "grade": false,
     "grade_id": "cell-7c2ff82c3137923b",
     "locked": true,
     "schema_version": 3,
     "solution": false,
     "task": false
    }
   },
   "source": [
    "\n",
    "Решите предложенное уравнение Фредгольма второго рода\n",
    "\n",
    "$$\n",
    "f(x) = \\cos(x)  + \\frac{1}{2\\pi} \\int_0^\\pi \\! \\sin(x) \\,t f(t) \\, dt\n",
    "$$\n",
    "\n",
    "Здесь $a, b = 0, 1$, $\\lambda = \\dfrac{1}{2\\pi}$, ядро $K(x, t) = \\sin(x)\\cdot t$ и правая часть - $g(x) = \\cos(x)$.\n",
    "\n",
    "Точное решение (Сборник задач по интегральным уравнениям, 2006):\n",
    "\n",
    "$$\n",
    "f(x) = \\cos(x)- \\frac{2}{\\pi}\\sin(x)\n",
    "$$"
   ]
  },
  {
   "cell_type": "markdown",
   "metadata": {
    "deletable": false,
    "editable": false,
    "hidden": true,
    "nbgrader": {
     "cell_type": "markdown",
     "checksum": "bab482b2121658773bed1c35ed3e9692",
     "grade": false,
     "grade_id": "cell-0686a98da0e5aabb",
     "locked": true,
     "schema_version": 3,
     "solution": false,
     "task": false
    }
   },
   "source": [
    "Для нахождения интеграла преобразуйте заменой переменных в интеграле область интегрирования в [0,1] воспользуйтесь Гауссовой квадратурой с весовой функцией $w(x) = 1$ на $(0, 1)$. Посмотрите на http://dlmf.nist.gov/18.3, и найдите соответствующую функцию в *scipy.special* (обратите внимание на область интегрирования).\n",
    "\n",
    "Напишите функцию, возвращающую значение f(t_j) по схеме выше, которая в качестве параметра принимает величину $N$--число узлов в квадратуре, для нахождение решения СЛАУ можно использовать `scipy.linalg.solve`.\n",
    "\n",
    "Постройте график истинного решения и набор (t_j, f_j) для раличных $N$, используя вашу функцию."
   ]
  },
  {
   "cell_type": "code",
   "execution_count": 11,
   "metadata": {
    "deletable": false,
    "hidden": true,
    "nbgrader": {
     "cell_type": "code",
     "checksum": "8ef0119a4fa579caf3c668ffbcb89691",
     "grade": true,
     "grade_id": "cell-5b344dd355335170",
     "locked": false,
     "points": 5,
     "schema_version": 3,
     "solution": true,
     "task": false
    }
   },
   "outputs": [
    {
     "data": {
      "image/png": "[encoded data removed]",
      "text/plain": [
       "<Figure size 432x288 with 1 Axes>"
      ]
     },
     "metadata": {
      "needs_background": "light"
     },
     "output_type": "display_data"
    }
   ],
   "source": [
    "import matplotlib.pyplot as plt\n",
    "from scipy.linalg import solve as lg\n",
    "r = lambda x: np.cos(x) - (2/np.pi) * np.sin(x)\n",
    "x1 = np.linspace(0, np.pi, 200)\n",
    "C = lambda x, t: np.sin(np.pi * x) * t\n",
    "D = lambda x: np.cos(np.pi * x)\n",
    "def G(N):\n",
    "    roots, weights = scipy.special.roots_sh_legendre(N)\n",
    "    I = np.eye(N)\n",
    "    A = np.vectorize(C)\n",
    "    A1 = np.pi * 1/2 * np.array([weights * A(t, roots) for t in roots]) - I\n",
    "\n",
    "    g1 = - D(roots)\n",
    "    f1 = lg(A1, g1)\n",
    "    return f1, roots, weights\n",
    "N_ = [10, 8, 5, 2]\n",
    "for N in N_:\n",
    "    f1, roots, _ = G(N)\n",
    "    x = roots * np.pi\n",
    "    plt.plot(x, f1, label=('$N = %s$' % N), zorder=N, linewidth=1)\n",
    "plt.grid(True)   \n",
    "plt.plot(x1, r(x1), '--', dashes=(3,10), linewidth=1, zorder=20, label='$Exact~~solution$', color='black')\n",
    "plt.xlabel('$x$')\n",
    "plt.ylabel('$f(x)$')\n",
    "plt.legend()\n",
    "plt.show()"
   ]
  },
  {
   "cell_type": "markdown",
   "metadata": {
    "deletable": false,
    "editable": false,
    "hidden": true,
    "nbgrader": {
     "cell_type": "markdown",
     "checksum": "f6cd5427e76b1f02f0a5bca71daabf2f",
     "grade": false,
     "grade_id": "cell-72937e0192d8f26e",
     "locked": true,
     "schema_version": 3,
     "solution": false,
     "task": false
    }
   },
   "source": [
    "Очевидной проблемой предыдущего результата для $f(x)$ является то, что он возвращает решения на фиксированном наборе точек. Мы не контролируем их расположение.\n",
    "\n",
    "Оказывается, интерполяционные методы (мы обсудим их на следующих занятиях) работают не очень хорошо, в сравнении с следующим подходом:"
   ]
  },
  {
   "cell_type": "markdown",
   "metadata": {
    "deletable": false,
    "editable": false,
    "hidden": true,
    "nbgrader": {
     "cell_type": "markdown",
     "checksum": "0d6c47a9858013151f2ddbac99976258",
     "grade": false,
     "grade_id": "cell-eb09876399147c69",
     "locked": true,
     "schema_version": 3,
     "solution": false,
     "task": false
    }
   },
   "source": [
    "Используйте изначальный вид, чтобы вычислить значение функции на всём интервале:\n",
    "\n",
    "$$\n",
    "f(x) = g(x) + \\lambda \\sum_j^N w_j\\, K(x, t_j)\\, f(t_j)\n",
    "$$\n",
    "\n",
    "Сравните эту интерполяцию с точным решением для разлиных $N$.\n",
    "(выбирайте наглядный масштаб)"
   ]
  },
  {
   "cell_type": "code",
   "execution_count": 12,
   "metadata": {
    "deletable": false,
    "hidden": true,
    "nbgrader": {
     "cell_type": "code",
     "checksum": "6bdc45a399812573474d4e79d749a014",
     "grade": true,
     "grade_id": "cell-89229632156a22f0",
     "locked": false,
     "points": 2,
     "schema_version": 3,
     "solution": true,
     "task": false
    }
   },
   "outputs": [
    {
     "data": {
      "image/png": "[encoded data removed]",
      "text/plain": [
       "<Figure size 432x288 with 1 Axes>"
      ]
     },
     "metadata": {
      "needs_background": "light"
     },
     "output_type": "display_data"
    }
   ],
   "source": [
    "x1 = np.linspace(0, np.pi, 77)\n",
    "C = lambda x, t: np.sin(np.pi * x) * t\n",
    "D = lambda x: np.cos(np.pi * x)\n",
    "N_ = [1, 2, 4, 8, 20]\n",
    "r = lambda x: np.cos(x) - (2/np.pi) * np.sin(x)\n",
    "for N in N_:\n",
    "    f_unity, roots, weights = G(N)\n",
    "    funcion = lambda x: D(x) + 1/2 * np.pi * (weights * C(x, roots) * f_unity).sum()\n",
    "    f_l = np.array([funcion(x) for x in x1/np.pi])\n",
    "    plt.plot(x1, f_l, label=('$N = %s$' % N), zorder=N, linewidth=1.5)\n",
    "plt.grid(True) \n",
    "plt.plot(x1, r(x1), '--', dashes=(3,6), linewidth=1.5, zorder=20, alpha=1, label='$Exact~~solution$', color='black')\n",
    "plt.xlabel('$x$')\n",
    "plt.ylabel('$f(x)$')\n",
    "plt.legend()\n",
    "plt.show()\n",
    "\n",
    "\n",
    "     \n"
   ]
  },
  {
   "cell_type": "markdown",
   "metadata": {
    "deletable": false,
    "editable": false,
    "heading_collapsed": true,
    "nbgrader": {
     "cell_type": "markdown",
     "checksum": "9d707bd9e18bbf023cddf791e05ae328",
     "grade": false,
     "grade_id": "cell-70721ae1c137e72e",
     "locked": true,
     "schema_version": 3,
     "solution": false,
     "task": false
    }
   },
   "source": [
    "# Часть 3. Интеграл от осциллирующей функции - EXTRA points task\n",
    "\n",
    "Рассмотрим определенный интеграл\n",
    "\n",
    "$$\n",
    "I = \\int_0^\\infty\\! \\frac{\\sin(x) \\cos{(\\cos{(x)})}}{x}\\,dx\n",
    "$$\n",
    "\n",
    "Вычислите значение данного интеграла с относительной точностью $10^{-6}$. Для упрощения задачи можете воспользоваться функционалом `scipy.integrate.quad`.\n",
    "\n",
    "Заметим, что \"из коробки\" интеграл вычислить не удается, и нужно что-то придумать."
   ]
  },
  {
   "cell_type": "code",
   "execution_count": null,
   "metadata": {
    "ExecuteTime": {
     "end_time": "2022-10-31T20:25:23.757358Z",
     "start_time": "2022-10-31T20:25:23.138756Z"
    },
    "deletable": false,
    "editable": false,
    "hidden": true,
    "nbgrader": {
     "cell_type": "code",
     "checksum": "11f9ea8995c2fc47c6518788c1e3a53b",
     "grade": false,
     "grade_id": "cell-515f8f19764eb256",
     "locked": true,
     "schema_version": 3,
     "solution": false,
     "task": false
    }
   },
   "outputs": [],
   "source": [
    "from math import sin, cos\n",
    "\n",
    "from scipy.integrate import quad\n",
    "quad(lambda x: sin(x) * cos(cos(x)) / x, 0, float('inf'))"
   ]
  },
  {
   "cell_type": "markdown",
   "metadata": {
    "deletable": false,
    "editable": false,
    "hidden": true,
    "nbgrader": {
     "cell_type": "markdown",
     "checksum": "53e2ba2b52667aada8dc1a7f43391ef4",
     "grade": false,
     "grade_id": "cell-e34178c9823af271",
     "locked": true,
     "schema_version": 3,
     "solution": false,
     "task": false
    }
   },
   "source": [
    "Напишите функцию, которая возвращает значение данного интеграла. Только само значение интеграла, без оценки погрешности.\n",
    "(оборачиваем интеграл в функцию только для удобства автопроверки)."
   ]
  },
  {
   "cell_type": "code",
   "execution_count": null,
   "metadata": {
    "ExecuteTime": {
     "end_time": "2022-10-31T20:25:43.060678Z",
     "start_time": "2022-10-31T20:25:43.052101Z"
    },
    "deletable": false,
    "hidden": true,
    "nbgrader": {
     "cell_type": "code",
     "checksum": "f9fa2326b0f5d084ce9385ccd5a2fbd7",
     "grade": false,
     "grade_id": "cell-ddd4e0b6d148fcfd",
     "locked": false,
     "schema_version": 3,
     "solution": true,
     "task": false
    }
   },
   "outputs": [],
   "source": [
    "from scipy.integrate import quad\n",
    "\n",
    "def integ():\n",
    "    \"\"\"Return a single float, the computed value of the integral.\"\"\"\n",
    "    # YOUR CODE HERE\n",
    "    raise NotImplementedError()"
   ]
  },
  {
   "cell_type": "code",
   "execution_count": null,
   "metadata": {
    "deletable": false,
    "editable": false,
    "hidden": true,
    "nbgrader": {
     "cell_type": "code",
     "checksum": "28f736930b29b8de099e68693bd5f160",
     "grade": true,
     "grade_id": "cell-b341c2ce36bc957d",
     "locked": true,
     "points": 10,
     "schema_version": 3,
     "solution": false,
     "task": false
    }
   },
   "outputs": [],
   "source": [
    "from numpy.testing import assert_allclose\n",
    "\n",
    "# this is a test cell, keep it intact\n"
   ]
  }
 ],
 "metadata": {
  "kernelspec": {
   "display_name": "Python 3 (ipykernel)",
   "language": "python",
   "name": "python3"
  },
  "language_info": {
   "codemirror_mode": {
    "name": "ipython",
    "version": 3
   },
   "file_extension": ".py",
   "mimetype": "text/x-python",
   "name": "python",
   "nbconvert_exporter": "python",
   "pygments_lexer": "ipython3",
   "version": "3.9.12"
  },
  "latex_envs": {
   "LaTeX_envs_menu_present": true,
   "autoclose": true,
   "autocomplete": false,
   "bibliofile": "biblio.bib",
   "cite_by": "apalike",
   "current_citInitial": 1,
   "eqLabelWithNumbers": true,
   "eqNumInitial": 1,
   "hotkeys": {
    "equation": "Ctrl-E",
    "itemize": "Ctrl-I"
   },
   "labels_anchors": false,
   "latex_user_defs": false,
   "report_style_numbering": false,
   "user_envs_cfg": false
  },
  "toc": {
   "base_numbering": 1,
   "nav_menu": {},
   "number_sections": true,
   "sideBar": true,
   "skip_h1_title": false,
   "title_cell": "Table of Contents",
   "title_sidebar": "Contents",
   "toc_cell": false,
   "toc_position": {},
   "toc_section_display": true,
   "toc_window_display": false
  }
 },
 "nbformat": 4,
 "nbformat_minor": 4
}
